{
 "cells": [
  {
   "cell_type": "code",
   "execution_count": null,
   "metadata": {},
   "outputs": [],
   "source": [
    "import sys\n",
    "sys.path.append('..')\n",
    "\n",
    "from src.data.feature_builder import FlightFeatureBuilder\n",
    "from src.visualization.plotter import FlightPlotter\n",
    "import pandas as pd\n",
    "import seaborn as sns\n",
    "import matplotlib.pyplot as plt\n",
    "\n",
    "# Initialisation\n",
    "data_path = Path('../data')\n",
    "feature_builder = FlightFeatureBuilder(data_path)\n",
    "\n",
    "# Chargement et préparation des données\n",
    "df_ams = feature_builder.process_destination('AMS')\n",
    "\n",
    "# Analyse des prix\n",
    "print(\"Statistiques des prix par compagnie:\")\n",
    "print(df_ams.groupby('airlines')['price'].describe())\n",
    "\n",
    "# Visualisation de la distribution des prix\n",
    "plt.figure(figsize=(12, 6))\n",
    "sns.boxplot(data=df_ams, x='airlines', y='price')\n",
    "plt.xticks(rotation=45)\n",
    "plt.title('Distribution des prix par compagnie aérienne')\n",
    "plt.show()\n",
    "\n",
    "# Analyse temporelle des prix\n",
    "plt.figure(figsize=(12, 6))\n",
    "sns.lineplot(data=df_ams, x='days_until_flight', y='price', hue='airlines')\n",
    "plt.title('Évolution des prix en fonction du délai de réservation')\n",
    "plt.show()\n",
    "\n",
    "# Analyse des corrélations\n",
    "correlation_matrix = df_ams[['price', 'duration', 'days_until_flight', \n",
    "                           'route_competition', 'route_frequency']].corr()\n",
    "sns.heatmap(correlation_matrix, annot=True, cmap='coolwarm')\n",
    "plt.title('Matrice de corrélation')\n",
    "plt.show()"
   ]
  },
  {
   "cell_type": "code",
   "execution_count": null,
   "metadata": {},
   "outputs": [],
   "source": []
  }
 ],
 "metadata": {
  "language_info": {
   "name": "python"
  }
 },
 "nbformat": 4,
 "nbformat_minor": 2
}
